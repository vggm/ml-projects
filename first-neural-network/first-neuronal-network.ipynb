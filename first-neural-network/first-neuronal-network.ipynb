{
 "cells": [
  {
   "cell_type": "code",
   "execution_count": 34,
   "metadata": {},
   "outputs": [],
   "source": [
    "import tensorflow as tf\n",
    "import numpy as np\n",
    "from random import randint"
   ]
  },
  {
   "cell_type": "code",
   "execution_count": 49,
   "metadata": {},
   "outputs": [],
   "source": [
    "# celsius = np.array([-40, -10, 0, 8, 15, 22, 38], dtype=float)\n",
    "# fahrenheit = np.array([-40, 14, 32, 46, 59, 72, 100], dtype=float)\n",
    "\n",
    "celsius = []\n",
    "fahrenheit = []\n",
    "\n",
    "for _ in range(200):\n",
    "  celsius.append(randint(-100, 100))\n",
    "  fahrenheit.append(celsius[-1] * 1.8 + 32)"
   ]
  },
  {
   "cell_type": "code",
   "execution_count": 53,
   "metadata": {},
   "outputs": [],
   "source": [
    "# capa = tf.keras.layers.Dense(units=1, input_shape=[1])\n",
    "# modelo = tf.keras.Sequential([capa])\n",
    "\n",
    "oculta1 = tf.keras.layers.Dense(units=3, input_shape=[1]) \n",
    "oculta2 = tf.keras.layers.Dense(units=3) \n",
    "salida = tf.keras.layers.Dense(units=1)\n",
    "modelo = tf.keras.Sequential([oculta1, oculta2, salida])"
   ]
  },
  {
   "cell_type": "code",
   "execution_count": 54,
   "metadata": {},
   "outputs": [],
   "source": [
    "modelo.compile(\n",
    "  optimizer=tf.keras.optimizers.Adam(0.1),\n",
    "  loss='mean_squared_error'\n",
    ")"
   ]
  },
  {
   "cell_type": "code",
   "execution_count": 55,
   "metadata": {},
   "outputs": [
    {
     "name": "stdout",
     "output_type": "stream",
     "text": [
      "Comenzar entrenamiento...\n",
      "Modelo entrenado!\n"
     ]
    }
   ],
   "source": [
    "print('Comenzar entrenamiento...')\n",
    "historial = modelo.fit(celsius, fahrenheit, epochs=500, verbose=False)\n",
    "print('Modelo entrenado!')"
   ]
  },
  {
   "cell_type": "code",
   "execution_count": 56,
   "metadata": {},
   "outputs": [
    {
     "data": {
      "text/plain": [
       "[<matplotlib.lines.Line2D at 0x1d51c69e890>]"
      ]
     },
     "execution_count": 56,
     "metadata": {},
     "output_type": "execute_result"
    },
    {
     "data": {
      "image/png": "[encoded data removed]",
      "text/plain": [
       "<Figure size 640x480 with 1 Axes>"
      ]
     },
     "metadata": {},
     "output_type": "display_data"
    }
   ],
   "source": [
    "import matplotlib.pyplot as plt\n",
    "plt.xlabel('# Época')\n",
    "plt.ylabel('Magnitud de pérdida')\n",
    "plt.plot(historial.history['loss'])"
   ]
  },
  {
   "cell_type": "code",
   "execution_count": 58,
   "metadata": {},
   "outputs": [
    {
     "name": "stdout",
     "output_type": "stream",
     "text": [
      "Prueba de predicción!\n",
      "El resultado es [[212.05461]] fahrenheit!\n"
     ]
    }
   ],
   "source": [
    "print('Prueba de predicción!')\n",
    "resultado = modelo.predict([100.0], verbose=False)\n",
    "print(f'El resultado es {resultado} fahrenheit!')"
   ]
  },
  {
   "cell_type": "code",
   "execution_count": 22,
   "metadata": {},
   "outputs": [
    {
     "name": "stdout",
     "output_type": "stream",
     "text": [
      "Variables internas del modelo\n",
      "[array([[1.0397077 , 0.01172924, 0.02811503]], dtype=float32), array([ 8.705809  , -2.4330966 ,  0.12418553], dtype=float32)]\n",
      "[array([[ 0.02411629,  1.5232197 , -0.13460347],\n",
      "       [-1.4099265 ,  0.00242137, -0.15708573],\n",
      "       [-0.7644485 , -0.00668693,  1.1912515 ]], dtype=float32), array([-5.6394563,  8.736899 ,  6.6041036], dtype=float32)]\n",
      "[array([[ 0.00837321],\n",
      "       [ 1.1357521 ],\n",
      "       [-0.0147416 ]], dtype=float32), array([7.1290717], dtype=float32)]\n"
     ]
    }
   ],
   "source": [
    "print('Variables internas del modelo')\n",
    "# print(capa.get_weights())\n",
    "print(oculta1.get_weights())\n",
    "print(oculta2.get_weights())\n",
    "print(salida.get_weights())"
   ]
  }
 ],
 "metadata": {
  "kernelspec": {
   "display_name": "ML-DL",
   "language": "python",
   "name": "python3"
  },
  "language_info": {
   "codemirror_mode": {
    "name": "ipython",
    "version": 3
   },
   "file_extension": ".py",
   "mimetype": "text/x-python",
   "name": "python",
   "nbconvert_exporter": "python",
   "pygments_lexer": "ipython3",
   "version": "3.11.3"
  },
  "orig_nbformat": 4
 },
 "nbformat": 4,
 "nbformat_minor": 2
}
